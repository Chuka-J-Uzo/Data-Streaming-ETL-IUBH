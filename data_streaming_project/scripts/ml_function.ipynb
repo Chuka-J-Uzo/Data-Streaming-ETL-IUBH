{
 "cells": [
  {
   "cell_type": "code",
   "execution_count": null,
   "metadata": {},
   "outputs": [],
   "source": [
    "import pyspark\n",
    "from pyspark.sql import SparkSession\n",
    "from pyspark.sql.functions import from_json, col, window\n",
    "from pyspark.sql.types import StructType, StructField, StringType, DoubleType\n",
    "from pyspark.ml.regression import LinearRegression\n",
    "from pyspark.ml.feature import VectorAssembler\n",
    "from pyspark.ml import Pipeline\n",
    "import logging\n",
    "from confluent_kafka import Producer\n",
    "\n",
    "# Create a Spark session\n",
    "spark = SparkSession.builder \\\n",
    "    .appName(\"Truck_Data_Stream (Machine Learning)\") \\\n",
    "    .config(\"spark.jars\", \"./../mysql_conn-JAR-FILE/mysql-connector-java-8.0.32.jar\") \\\n",
    "    .master(\"local[*]\")\\\n",
    "    .getOrCreate()\n",
    "\n",
    "# Set log level to INFO\n",
    "spark.sparkContext.setLogLevel(\"INFO\")\n",
    "\n",
    "# Define Kafka consumer options\n",
    "kafka_bootstrap_servers = \"localhost:9092\"\n",
    "kafka_topic_name = \"Truck-Data\"\n",
    "kafka_subscribe_type = \"subscribe\"\n",
    "kafka_consumer_group = \"test_group\"\n",
    "\n",
    "# Define the schema for the messages received from Kafka\n",
    "schema = StructType([\n",
    "    StructField(\"timestamp\", StringType()),\n",
    "    StructField(\"distance_covered\", DoubleType()),\n",
    "    StructField(\"engine_speed\", DoubleType()),\n",
    "    StructField(\"fuel_consumed\", DoubleType())    \n",
    "])\n",
    "\n",
    "# Read data from Kafka and apply the schema\n",
    "df = spark \\\n",
    "    .readStream \\\n",
    "    .format(\"kafka\") \\\n",
    "    .option(\"kafka.bootstrap.servers\", kafka_bootstrap_servers) \\\n",
    "    .option(kafka_subscribe_type, kafka_topic_name) \\\n",
    "    .option(\"startingOffsets\", \"earliest\") \\\n",
    "    .option(\"failOnDataLoss\", \"false\") \\\n",
    "    .load() \\\n",
    "    .selectExpr(\"CAST(value AS STRING)\") \\\n",
    "    .select(from_json(col(\"value\"), schema).alias(\"json\")) \\\n",
    "    .select(\"json.*\")\n",
    "\n"
   ]
  }
 ],
 "metadata": {
  "language_info": {
   "name": "python"
  },
  "orig_nbformat": 4
 },
 "nbformat": 4,
 "nbformat_minor": 2
}
